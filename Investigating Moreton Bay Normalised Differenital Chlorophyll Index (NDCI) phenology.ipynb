{
 "cells": [
  {
   "cell_type": "markdown",
   "id": "e2eef0fe-a0b2-41a1-a87a-7e0181e65c91",
   "metadata": {},
   "source": [
    "# Investigating Moreton Bay Normalised Differenital Chlorophyll Index (NDCI) phenology\n",
    "The purpose of this notebook is to download **DEA ARD** from sentinel 2 and/or landsat and calculate NDCI and distangle known high ch eventspotentially leading to poor water quality, algale blooms and impacting local fishing.\n",
    "This notebook will\n",
    "1. Collect to the DEA STAC and load libraries.\n",
    "2. Indentify the region of interest, Moreton bay, and our temporal context\n",
    "3. Load the relevant satelite data to caclualte NDCI.\n",
    "4. Extract and aggregate NCDI values over morten bay.\n",
    "5. Plot the NDCI over time and compare against known inflow data and rainfall.\n",
    "6. Look for high intesnity NDCI data and try and indentify poor water qu and algal blooms."
   ]
  },
  {
   "cell_type": "markdown",
   "id": "efcdad6b-63bd-4075-ad5a-a759cad5a4d4",
   "metadata": {},
   "source": [
    "For Sentinel-2, NDCI is an index that aims to predict the chlorophyll content in turbid productive waters. It is calculated using the red spectral band Red with the red edge spectral band Red edge 1. This study measures the presence of water through the modified normalised difference water index (MNDWI) and clorophyll-*a* through the normalised difference clorophyll index (NDCI).\n",
    "\n",
    "MNDWI is calculated from the green and shortwave infrared (SWIR) bands to identify water.\n",
    "The formula is\n",
    "\n",
    "$$\n",
    "\\begin{aligned}\n",
    "\\text{MNDWI} = \\frac{\\text{Green} - \\text{SWIR}}{\\text{Green} + \\text{SWIR}}.\n",
    "\\end{aligned}\n",
    "$$\n",
    "\n",
    "When interpreting this index, values greater than 0 indicate water.\n",
    "\n",
    "NDCI is calculated from the red edge 1 and red bands to identify water.\n",
    "The formula is\n",
    "\n",
    "$$\n",
    "\\begin{aligned}\n",
    "\\text{NDCI} = \\frac{\\text{Red edge 1} - \\text{Red}}{\\text{Red edge 1} + \\text{Red}}.\n",
    "\\end{aligned}\n",
    "$$\n",
    "\n",
    "When interpreting this index, high values indicate the presence of clorophyll-*a*."
   ]
  },
  {
   "cell_type": "markdown",
   "id": "6782af0e-2ea9-4c1f-bf32-065b3e842878",
   "metadata": {},
   "source": [
    "### Collect to the DEA STAC and load libraries."
   ]
  },
  {
   "cell_type": "code",
   "execution_count": 20,
   "id": "1a68f8f4-feaf-4b25-bff4-b668e05a443e",
   "metadata": {},
   "outputs": [],
   "source": [
    "# Import required libraries\n",
    "import pystac_client\n",
    "import odc.stac \n",
    "# Connect to DEA STAC catalog\n",
    "catalog = pystac_client.Client.open(\"https://explorer.dea.ga.gov.au/stac\")\n",
    "# Configure the Amazon web service\n",
    "odc.stac.configure_rio(\n",
    "    cloud_defaults=True,\n",
    "    aws={\"aws_unsigned\": True},\n",
    ")"
   ]
  },
  {
   "cell_type": "markdown",
   "id": "3efccf6c-28b0-4876-af18-16f81a8e08cf",
   "metadata": {},
   "source": [
    "### Indentify the region of interest, Moreton bay, and our temporal context"
   ]
  },
  {
   "cell_type": "code",
   "execution_count": 3,
   "id": "5977082b-6d50-441e-87f9-5ffc47257a7f",
   "metadata": {},
   "outputs": [],
   "source": [
    "# Set a bounding box\n",
    "# [xmin, ymin, xmax, ymax] in latitude and longitude\n",
    "bbox = [153.057702,-27.835773, 153.598474, -27.035502]\n",
    "\n",
    "# Set a start and end date\n",
    "start_date = \"2021-11-01\"\n",
    "end_date = \"2021-12-31\"\n"
   ]
  },
  {
   "cell_type": "markdown",
   "id": "26fb9bad-41e8-41ae-af71-20ab231227c8",
   "metadata": {},
   "source": [
    "### Load the relevant satelite data to calculate NDCI."
   ]
  },
  {
   "cell_type": "code",
   "execution_count": 10,
   "id": "f242a16c-b92f-4cd5-a7e2-940c81df6eee",
   "metadata": {},
   "outputs": [
    {
     "ename": "NameError",
     "evalue": "name 'catalog' is not defined",
     "output_type": "error",
     "traceback": [
      "\u001b[0;31m---------------------------------------------------------------------------\u001b[0m",
      "\u001b[0;31mNameError\u001b[0m                                 Traceback (most recent call last)",
      "Cell \u001b[0;32mIn[10], line 8\u001b[0m\n\u001b[1;32m      3\u001b[0m collections \u001b[38;5;241m=\u001b[39m [\n\u001b[1;32m      4\u001b[0m     \u001b[38;5;124m\"\u001b[39m\u001b[38;5;124mga_s2am_ard_3\u001b[39m\u001b[38;5;124m\"\u001b[39m,\n\u001b[1;32m      5\u001b[0m     \u001b[38;5;124m\"\u001b[39m\u001b[38;5;124mga_s2bm_ard_3\u001b[39m\u001b[38;5;124m\"\u001b[39m,\n\u001b[1;32m      6\u001b[0m ]\n\u001b[1;32m      7\u001b[0m \u001b[38;5;66;03m# Build a query with the parameters above\u001b[39;00m\n\u001b[0;32m----> 8\u001b[0m query \u001b[38;5;241m=\u001b[39m catalog\u001b[38;5;241m.\u001b[39msearch(\n\u001b[1;32m      9\u001b[0m     bbox\u001b[38;5;241m=\u001b[39mbbox,\n\u001b[1;32m     10\u001b[0m     collections\u001b[38;5;241m=\u001b[39mcollections,\n\u001b[1;32m     11\u001b[0m     datetime\u001b[38;5;241m=\u001b[39m\u001b[38;5;124mf\u001b[39m\u001b[38;5;124m\"\u001b[39m\u001b[38;5;132;01m{\u001b[39;00mstart_date\u001b[38;5;132;01m}\u001b[39;00m\u001b[38;5;124m/\u001b[39m\u001b[38;5;132;01m{\u001b[39;00mend_date\u001b[38;5;132;01m}\u001b[39;00m\u001b[38;5;124m\"\u001b[39m,\n\u001b[1;32m     12\u001b[0m )\n\u001b[1;32m     14\u001b[0m \u001b[38;5;66;03m# Search the STAC catalog for all items matching the query\u001b[39;00m\n\u001b[1;32m     15\u001b[0m items \u001b[38;5;241m=\u001b[39m \u001b[38;5;28mlist\u001b[39m(query\u001b[38;5;241m.\u001b[39mitems())\n",
      "\u001b[0;31mNameError\u001b[0m: name 'catalog' is not defined"
     ]
    }
   ],
   "source": [
    "# Choose products to load\n",
    "# Here, the Sentinel-2a and Sentinel-2b products are chosen\n",
    "collections = [\n",
    "    \"ga_s2am_ard_3\",\n",
    "    \"ga_s2bm_ard_3\",\n",
    "]\n",
    "# Build a query with the parameters above\n",
    "query = catalog.search(\n",
    "    bbox=bbox,\n",
    "    collections=collections,\n",
    "    datetime=f\"{start_date}/{end_date}\",\n",
    ")\n",
    "\n",
    "# Search the STAC catalog for all items matching the query\n",
    "items = list(query.items())\n",
    "print(f\"Found: {len(items):d} datasets\")"
   ]
  },
  {
   "cell_type": "code",
   "execution_count": 8,
   "id": "9e436f98-f9fa-4ec9-b1b7-b55382cf8673",
   "metadata": {},
   "outputs": [
    {
     "ename": "NameError",
     "evalue": "name 'odc' is not defined",
     "output_type": "error",
     "traceback": [
      "\u001b[0;31m---------------------------------------------------------------------------\u001b[0m",
      "\u001b[0;31mNameError\u001b[0m                                 Traceback (most recent call last)",
      "Cell \u001b[0;32mIn[8], line 1\u001b[0m\n\u001b[0;32m----> 1\u001b[0m ds \u001b[38;5;241m=\u001b[39m odc\u001b[38;5;241m.\u001b[39mstac\u001b[38;5;241m.\u001b[39mload(\n\u001b[1;32m      2\u001b[0m     items,\n\u001b[1;32m      3\u001b[0m     bands\u001b[38;5;241m=\u001b[39m[\u001b[38;5;124m\"\u001b[39m\u001b[38;5;124mnbart_red\u001b[39m\u001b[38;5;124m\"\u001b[39m, \u001b[38;5;124m\"\u001b[39m\u001b[38;5;124mnbart_green\u001b[39m\u001b[38;5;124m\"\u001b[39m, \u001b[38;5;124m\"\u001b[39m\u001b[38;5;124mnbart_blue\u001b[39m\u001b[38;5;124m\"\u001b[39m],  \n\u001b[1;32m      4\u001b[0m     crs\u001b[38;5;241m=\u001b[39m\u001b[38;5;124m\"\u001b[39m\u001b[38;5;124mutm\u001b[39m\u001b[38;5;124m\"\u001b[39m,\n\u001b[1;32m      5\u001b[0m     resolution\u001b[38;5;241m=\u001b[39m\u001b[38;5;241m30\u001b[39m,\n\u001b[1;32m      6\u001b[0m     groupby\u001b[38;5;241m=\u001b[39m\u001b[38;5;124m\"\u001b[39m\u001b[38;5;124msolar_day\u001b[39m\u001b[38;5;124m\"\u001b[39m,\n\u001b[1;32m      7\u001b[0m     bbox\u001b[38;5;241m=\u001b[39mbbox,\n\u001b[1;32m      8\u001b[0m )\n",
      "\u001b[0;31mNameError\u001b[0m: name 'odc' is not defined"
     ]
    }
   ],
   "source": [
    "ds = odc.stac.load(\n",
    "    items,\n",
    "    bands=[\"nbart_red\", \"nbart_green\", \"nbart_blue\"],  \n",
    "    crs=\"utm\",\n",
    "    resolution=30,\n",
    "    groupby=\"solar_day\",\n",
    "    bbox=bbox,\n",
    ")\n"
   ]
  },
  {
   "cell_type": "code",
   "execution_count": null,
   "id": "cb22fd32-518d-4542-8a6d-7b09f1d7d878",
   "metadata": {},
   "outputs": [],
   "source": []
  },
  {
   "cell_type": "code",
   "execution_count": null,
   "id": "6ecd4ef7-7056-42db-b927-baf65daa7ca2",
   "metadata": {},
   "outputs": [],
   "source": [
    "ds.nbart_red.plot(col=\"time\", robust=True);"
   ]
  },
  {
   "cell_type": "code",
   "execution_count": null,
   "id": "4654621d-7864-47b9-b352-4675ed9ca472",
   "metadata": {},
   "outputs": [],
   "source": [
    "items[0]"
   ]
  },
  {
   "cell_type": "code",
   "execution_count": null,
   "id": "dbe2172c-84f8-4cd7-9c5d-9d1c70f9abf3",
   "metadata": {},
   "outputs": [],
   "source": [
    "# Set up a filter query\n",
    "filter_query = \"eo:cloud_cover < 20\"\n",
    "\n",
    "# Query with filtering\n",
    "query = catalog.search(\n",
    "    bbox=bbox,\n",
    "    collections=collections,\n",
    "    datetime=f\"{start_date}/{end_date}\",\n",
    "    filter=filter_query,\n",
    ")\n",
    "\n",
    "# Load our filtered data\n",
    "ds_filtered = odc.stac.load(\n",
    "    query.items(),\n",
    "    bands=[\"nbart_red\"],\n",
    "    crs=\"utm\",\n",
    "    resolution=30,\n",
    "    groupby=\"solar_day\",\n",
    "    bbox=bbox,\n",
    ")\n",
    "\n",
    "# Plot our filtered data\n",
    "ds_filtered.nbart_red.plot(col=\"time\", robust=True);"
   ]
  },
  {
   "cell_type": "code",
   "execution_count": null,
   "id": "f6ccfe2c-1183-4d88-bdfe-250fd204d702",
   "metadata": {},
   "outputs": [],
   "source": [
    "# Query with sorting\n",
    "query = catalog.search(\n",
    "    bbox=bbox,\n",
    "    collections=collections,\n",
    "    datetime=f\"{start_date}/{end_date}\",\n",
    "    sortby=\"eo:cloud_cover\",\n",
    ")\n",
    "\n",
    "# Print out cloud cover values from low to high\n",
    "[i.properties[\"eo:cloud_cover\"] for i in query.items()]"
   ]
  },
  {
   "cell_type": "markdown",
   "id": "9a57a8e5-5886-4ac9-a264-32d6209a2467",
   "metadata": {},
   "source": [
    "Extract and aggregate NCDI values over morten bay."
   ]
  },
  {
   "cell_type": "code",
   "execution_count": null,
   "id": "3a310249-c17f-4581-85fe-4f3589a76c8d",
   "metadata": {},
   "outputs": [],
   "source": [
    "import datacube\n",
    "import matplotlib\n",
    "import matplotlib.pyplot as plt\n",
    "import numpy as np\n",
    "import pandas as pd\n",
    "import xarray as xr\n",
    "\n",
    "import warnings\n",
    "\n",
    "warnings.filterwarnings(\"ignore\")\n",
    "\n",
    "import sys\n",
    "\n",
    "sys.path.insert(1, \"../Tools/\")\n",
    "from dea_tools.datahandling import load_ard\n",
    "from dea_tools.plotting import rgb, display_map\n",
    "from dea_tools.bandindices import calculate_indices\n",
    "from dea_tools.dask import create_local_dask_cluster\n",
    "\n",
    "# Create local dask cluster to improve data load time\n",
    "client = create_local_dask_cluster(return_client=True)"
   ]
  },
  {
   "cell_type": "code",
   "execution_count": null,
   "id": "e18ec8f8-e592-4f1e-a0b5-7ada478da557",
   "metadata": {},
   "outputs": [],
   "source": [
    "dc = datacube.Datacube(app=\"Chlorophyll_monitoring\")"
   ]
  },
  {
   "cell_type": "code",
   "execution_count": null,
   "id": "71330ac4-b1f7-48b2-8989-9721df351989",
   "metadata": {},
   "outputs": [],
   "source": [
    "# Define the area of interest\n",
    "latitude = (-27.835773, -27.035502) \n",
    "longitude = (153.057702, 153.598474)\n",
    "\n",
    "# Set the range of dates for the analysis\n",
    "time = (\"2018-07-01\", \"2019-03-01\")"
   ]
  },
  {
   "cell_type": "code",
   "execution_count": null,
   "id": "72fecdd0-1a25-4ff0-ac34-18e8bce3e448",
   "metadata": {},
   "outputs": [],
   "source": []
  },
  {
   "cell_type": "code",
   "execution_count": null,
   "id": "39159e62-efe8-4e6f-abb6-daf7bffb24ee",
   "metadata": {},
   "outputs": [],
   "source": [
    "display_map(x=longitude, y=latitude)"
   ]
  },
  {
   "cell_type": "code",
   "execution_count": null,
   "id": "25189c18-6beb-4b18-984d-119ce3e455e9",
   "metadata": {},
   "outputs": [],
   "source": []
  }
 ],
 "metadata": {
  "kernelspec": {
   "display_name": "Python 3 (ipykernel)",
   "language": "python",
   "name": "python3"
  },
  "language_info": {
   "codemirror_mode": {
    "name": "ipython",
    "version": 3
   },
   "file_extension": ".py",
   "mimetype": "text/x-python",
   "name": "python",
   "nbconvert_exporter": "python",
   "pygments_lexer": "ipython3",
   "version": "3.12.2"
  }
 },
 "nbformat": 4,
 "nbformat_minor": 5
}
